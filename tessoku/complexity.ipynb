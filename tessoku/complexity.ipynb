{
 "cells": [
  {
   "cell_type": "code",
   "execution_count": null,
   "metadata": {},
   "outputs": [],
   "source": [
    "n = int(input())\n",
    "\n",
    "print(n**2)"
   ]
  },
  {
   "cell_type": "code",
   "execution_count": null,
   "metadata": {},
   "outputs": [],
   "source": [
    "n, x = map(int, input().split())\n",
    "A = list(map(int, input().split()))\n",
    "\n",
    "ans = \"No\"\n",
    "for i in range(n):\n",
    "    if A[i] == x:\n",
    "        ans = \"Yes\"\n",
    "print(ans)"
   ]
  },
  {
   "cell_type": "code",
   "execution_count": null,
   "metadata": {},
   "outputs": [],
   "source": [
    "n, k = map(int, input().split())\n",
    "P = list(map(int, input().split()))\n",
    "Q = list(map(int, input().split()))\n",
    "\n",
    "ans = \"No\"\n",
    "for i in range(n):\n",
    "    for j in range(n):\n",
    "        if P[i] + Q[j] == k:\n",
    "            ans = \"Yes\"\n",
    "print(ans)"
   ]
  },
  {
   "cell_type": "code",
   "execution_count": null,
   "metadata": {},
   "outputs": [],
   "source": [
    "n = int(input())\n",
    "\n",
    "#result = f'{n:0=10b}'\n",
    "result = \"\"\n",
    "\n",
    "while n > 0:\n",
    "    tmp = n % 2\n",
    "    n = n // 2\n",
    "    result = str(tmp) + result\n",
    "print('{:>010}'.format(result))"
   ]
  },
  {
   "cell_type": "markdown",
   "metadata": {},
   "source": [
    "[0埋め](https://note.nkmk.me/python-format-zero-hex/#_9)"
   ]
  },
  {
   "cell_type": "code",
   "execution_count": null,
   "metadata": {},
   "outputs": [],
   "source": [
    "n, k = map(int, input().split())\n",
    "cnt = 0\n",
    "for r_num in range(1, n+1):\n",
    "    for b_num in range(1, n+1):\n",
    "        w_num = k-(r_num+b_num)\n",
    "        if 1 <= w_num <= n:\n",
    "            cnt += 1\n",
    "            #print(r_num, b_num, w_num)\n",
    "print(cnt)"
   ]
  },
  {
   "cell_type": "code",
   "execution_count": null,
   "metadata": {},
   "outputs": [],
   "source": []
  }
 ],
 "metadata": {
  "kernelspec": {
   "display_name": ".venv",
   "language": "python",
   "name": "python3"
  },
  "language_info": {
   "codemirror_mode": {
    "name": "ipython",
    "version": 3
   },
   "file_extension": ".py",
   "mimetype": "text/x-python",
   "name": "python",
   "nbconvert_exporter": "python",
   "pygments_lexer": "ipython3",
   "version": "3.12.2"
  }
 },
 "nbformat": 4,
 "nbformat_minor": 2
}
