{
 "cells": [
  {
   "cell_type": "code",
   "execution_count": null,
   "metadata": {},
   "outputs": [],
   "source": [
    "n = int(input())\n",
    "A = list(map(int, input().split()))\n",
    "\n",
    "B = [-1] * n\n",
    "last = dict()\n",
    "\n",
    "for i in range(n):\n",
    "    if A[i] in last:\n",
    "        B[i] = last[A[i]]\n",
    "    last[A[i]] = i + 1\n",
    "print(*B)"
   ]
  },
  {
   "cell_type": "code",
   "execution_count": null,
   "metadata": {},
   "outputs": [],
   "source": [
    "n = int(input())\n",
    "A = list(map(int, input().split()))\n",
    "m = int(input())\n",
    "B = set(map(int, input().split()))\n",
    "x = int(input())\n",
    "\n",
    "ans = 'No'\n",
    "\n",
    "can_move = [False] * (x+1)\n",
    "\n",
    "can_move[0] = True\n",
    "\n",
    "for i in range(x+1):\n",
    "    if can_move[i]:\n",
    "        for j in range(n):\n",
    "            next = i + A[j]\n",
    "            if next < x+1:\n",
    "                if next in B:\n",
    "                    continue\n",
    "                else:\n",
    "                    can_move[next] = True\n",
    "\n",
    "if can_move[x]:\n",
    "    ans = 'Yes'\n",
    "print(ans)"
   ]
  },
  {
   "cell_type": "code",
   "execution_count": null,
   "metadata": {},
   "outputs": [],
   "source": [
    "S = input()"
   ]
  },
  {
   "cell_type": "code",
   "execution_count": null,
   "metadata": {},
   "outputs": [],
   "source": [
    "n = int(input())\n",
    "X = [None] * n\n",
    "Y = [None] * n\n",
    "for i in range(n):\n",
    "    X[i], Y[i] = map(int, input().split())\n",
    "\n",
    "# 料理iまでが提供された時の 毒の状態と、おいしさの総量\n",
    "dp = [{0: 0, 1: 0}] * n\n",
    "if Y[0] > 0:\n",
    "    dp[0][X[0]] = Y[0]\n",
    "\n",
    "for i in range(1, n):\n",
    "    for status, pred_value in dp[i-1].items():\n",
    "        # 毒状態の時に食べるとき\n",
    "        if status == 1 and X[i] == 0:\n",
    "            if pred_value + Y[i] > dp[i][0]:\n",
    "                dp[i][0] = pred_value + Y[i]\n",
    "        # 無毒状態で食べるとき\n",
    "        elif status == 0:\n",
    "            if pred_value + Y[i] > dp[i][X[i]]:\n",
    "                dp[i][X[i]] = pred_value + Y[i]\n",
    "\n",
    "best = max(dp[n-1].values())\n",
    "print(best)"
   ]
  }
 ],
 "metadata": {
  "kernelspec": {
   "display_name": ".venv",
   "language": "python",
   "name": "python3"
  },
  "language_info": {
   "name": "python",
   "version": "3.12.2"
  }
 },
 "nbformat": 4,
 "nbformat_minor": 2
}
