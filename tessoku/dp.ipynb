{
 "cells": [
  {
   "cell_type": "code",
   "execution_count": null,
   "metadata": {},
   "outputs": [],
   "source": [
    "#a16\n",
    "n = int(input())\n",
    "A = list(map(int, input().split()))\n",
    "B = list(map(int, input().split()))\n",
    "\n",
    "A = [0, 0] + A\n",
    "B = [0, 0, 0] + B\n",
    "\n",
    "dp = [0 for i in range(n+1)]\n",
    "dp[1] = 0\n",
    "dp[2] = A[2]\n",
    "for i in range(3, n+1):\n",
    "    dp[i] = min(dp[i-1]+A[i], dp[i-2]+B[i])\n",
    "\n",
    "print(dp[n])"
   ]
  },
  {
   "cell_type": "code",
   "execution_count": null,
   "metadata": {},
   "outputs": [],
   "source": [
    "#a17\n",
    "n = int(input())\n",
    "A = list(map(int, input().split()))\n",
    "B = list(map(int, input().split()))\n",
    "\n",
    "A = [0, 0] + A\n",
    "B = [0, 0, 0] + B\n",
    "\n",
    "dp = [0 for i in range(n+1)]\n",
    "pred = [None for i in range(n+1)]\n",
    "pred[2] = 1\n",
    "dp[1] = 0\n",
    "dp[2] = A[2]\n",
    "for i in range(3, n+1):\n",
    "    if dp[i-1]+A[i] > dp[i-2]+B[i]:\n",
    "        dp[i] = dp[i-2]+B[i]\n",
    "        pred[i] = i-2\n",
    "    else:\n",
    "        dp[i] = dp[i-1]+A[i]\n",
    "        pred[i] = i-1\n",
    "\n",
    "point = n\n",
    "path = [n]\n",
    "while pred[point]:\n",
    "    path.append(pred[point])\n",
    "    point = pred[point]\n",
    "\n",
    "path.reverse()\n",
    "print(len(path))\n",
    "print(*path)"
   ]
  },
  {
   "cell_type": "code",
   "execution_count": null,
   "metadata": {},
   "outputs": [],
   "source": [
    "#a18\n"
   ]
  }
 ],
 "metadata": {
  "language_info": {
   "name": "python"
  }
 },
 "nbformat": 4,
 "nbformat_minor": 2
}
