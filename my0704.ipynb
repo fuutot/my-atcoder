{
 "cells": [
  {
   "cell_type": "code",
   "execution_count": null,
   "metadata": {},
   "outputs": [],
   "source": [
    "a = int(input())\n",
    "s = input()\n",
    "\n",
    "if a >= 3200:\n",
    "    print(s)\n",
    "else:\n",
    "    print('red')"
   ]
  },
  {
   "cell_type": "code",
   "execution_count": null,
   "metadata": {},
   "outputs": [],
   "source": [
    "n = int(input())\n",
    "a = list(map(int, input().split()))\n",
    "\n",
    "total = 0\n",
    "\n",
    "for i in range(n):\n",
    "    total += 1/a[i]\n",
    "print(1/total)"
   ]
  },
  {
   "cell_type": "code",
   "execution_count": null,
   "metadata": {},
   "outputs": [],
   "source": [
    "n = int(input())\n",
    "v = list(map(int, input().split()))\n",
    "\n",
    "v.sort()\n",
    "ans = (v[0]+v[1])/2\n",
    "\n",
    "for i in range(2, n):\n",
    "    ans = (ans+v[i])/2\n",
    "print(ans)"
   ]
  },
  {
   "cell_type": "code",
   "execution_count": null,
   "metadata": {},
   "outputs": [],
   "source": [
    "n, q = map(int, input().split())\n",
    "p = [None for i in range(q)]\n",
    "x = [None for i in range(q)]\n",
    "\n",
    "tree = [[] for i in range(n)]\n",
    "\n",
    "for i in range(n-1):\n",
    "    a, b = map(int, input().split())\n",
    "    tree[a-1].append(b-1)\n",
    "for i in range(q):\n",
    "    p[i], x[i] = map(int, input().split())\n",
    "\n",
    "ans = [0 for i in range(n)]\n",
    "\n",
    "def add_dfs_based(p, x):\n",
    "    ans[p] += x\n",
    "    for n in tree[p]:\n",
    "        add_dfs_based(n, x)\n",
    "\n",
    "for j in range(q):\n",
    "    add_dfs_based(p[j]-1, x[j])\n",
    "\n",
    "print(*ans)"
   ]
  }
 ],
 "metadata": {
  "language_info": {
   "name": "python"
  }
 },
 "nbformat": 4,
 "nbformat_minor": 2
}
