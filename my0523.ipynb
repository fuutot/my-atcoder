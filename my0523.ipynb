{
 "cells": [
  {
   "cell_type": "code",
   "execution_count": null,
   "metadata": {},
   "outputs": [],
   "source": [
    "s = input()\n",
    "dic = dict()\n",
    "for d in s:\n",
    "    dic[d] = 0\n",
    "for d in s:\n",
    "    dic[d] += 1\n",
    "keys = list(dic.keys())\n",
    "vals = list(dic.values())\n",
    "if len(keys) == 2 and vals == [2, 2]:\n",
    "    print(\"Yes\")\n",
    "else:\n",
    "    print(\"No\")"
   ]
  },
  {
   "cell_type": "code",
   "execution_count": null,
   "metadata": {},
   "outputs": [],
   "source": [
    "n = int(input())\n",
    "p = list(map(int, input().split()))\n",
    "\n",
    "cnt = 0\n",
    "\n",
    "for i in range(2, n):\n",
    "    tmp = [p[i-2], p[i-1], p[i]]\n",
    "    tmp.sort()\n",
    "    if tmp[1] == p[i-1]:\n",
    "        cnt += 1\n",
    "print(cnt)"
   ]
  },
  {
   "cell_type": "code",
   "execution_count": null,
   "metadata": {},
   "outputs": [],
   "source": [
    "n = int(input())\n",
    "d = list(map(int, input().split()))\n",
    "\n",
    "\n",
    "def is_ok(arg):\n",
    "    # 条件を満たすかどうか？問題ごとに定義\n",
    "    return d[arg] < k \n",
    "\n",
    "\n",
    "def meguru_bisect(ng, ok):\n",
    "    '''\n",
    "    初期値のng,okを受け取り,is_okを満たす最小(最大)のokを返す\n",
    "    まずis_okを定義すべし\n",
    "    ng ok は  とり得る最小の値-1 とり得る最大の値+1\n",
    "    最大最小が逆の場合はよしなにひっくり返す\n",
    "    '''\n",
    "    while (abs(ok - ng) > 1):\n",
    "        mid = (ok + ng) // 2\n",
    "        if is_ok(mid):\n",
    "            ok = mid\n",
    "        else:\n",
    "            ng = mid\n",
    "    return ok\n",
    "\n",
    "d.sort()\n",
    "max_val = max(d)\n",
    "cnt = 0\n",
    "for k in range(max_val+1):\n",
    "    num = meguru_bisect(n, -1)+1\n",
    "    #print(k)\n",
    "    #print(num, n-num)\n",
    "    if num == n-num:\n",
    "        cnt += 1\n",
    "print(cnt)"
   ]
  },
  {
   "cell_type": "code",
   "execution_count": null,
   "metadata": {},
   "outputs": [],
   "source": [
    "n, k = map(int, input().split())\n"
   ]
  }
 ],
 "metadata": {
  "language_info": {
   "name": "python"
  }
 },
 "nbformat": 4,
 "nbformat_minor": 2
}
