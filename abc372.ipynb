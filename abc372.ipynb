{
 "cells": [
  {
   "cell_type": "code",
   "execution_count": null,
   "metadata": {},
   "outputs": [],
   "source": [
    "S = input()\n",
    "ans = ''\n",
    "for s in S:\n",
    "    if s != '.':\n",
    "        ans += s\n",
    "print(ans)"
   ]
  },
  {
   "cell_type": "code",
   "execution_count": null,
   "metadata": {},
   "outputs": [],
   "source": [
    "m = int(input())\n",
    "total = 0\n",
    "flag = False\n",
    "ans = []\n",
    "for i in range(20):\n",
    "    for j in range(10, -1, -1):\n",
    "        if m-total > 3**j:\n",
    "            total += 3**j\n",
    "            ans.append(j)\n",
    "            break\n",
    "        elif m-total == 3**j:\n",
    "            ans.append(j)\n",
    "            flag = True\n",
    "            break\n",
    "    if flag:\n",
    "        break\n",
    "print(len(ans))\n",
    "print(*ans)"
   ]
  },
  {
   "cell_type": "code",
   "execution_count": null,
   "metadata": {},
   "outputs": [],
   "source": [
    "n, q = map(int, input().split())\n",
    "s = list(input())\n",
    "\n",
    "cnt = 0\n",
    "\n",
    "for i in range(n-2):\n",
    "    if s[i] == 'A' and s[i+1] == 'B' and s[i+2] == 'C':\n",
    "        cnt += 1\n",
    "\n",
    "for i in range(q):\n",
    "    x, c = input().split()\n",
    "    x = int(x)-1\n",
    "\n",
    "    # 変更によってカウントが減少しないか\n",
    "    for j in range(3):\n",
    "        if x-j >= 0 and x-j+2 < n:\n",
    "            if s[x-j] == 'A' and s[x-j+1] == 'B' and s[x-j+2] == 'C':\n",
    "                cnt -= 1\n",
    "    \n",
    "    # 変更によってカウントが増加しないか\n",
    "    s[x] = c\n",
    "\n",
    "    for j in range(3):\n",
    "        if x-j >= 0 and x-j+2 < n:\n",
    "            if s[x-j] == 'A' and s[x-j+1] == 'B' and s[x-j+2] == 'C':\n",
    "                cnt += 1\n",
    "\n",
    "    print(cnt)"
   ]
  },
  {
   "cell_type": "code",
   "execution_count": null,
   "metadata": {},
   "outputs": [],
   "source": []
  }
 ],
 "metadata": {
  "language_info": {
   "name": "python"
  }
 },
 "nbformat": 4,
 "nbformat_minor": 2
}
