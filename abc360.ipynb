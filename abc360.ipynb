{
 "cells": [
  {
   "cell_type": "code",
   "execution_count": null,
   "metadata": {},
   "outputs": [],
   "source": [
    "#c\n",
    "\n",
    "n = int(input())\n",
    "A = list(map(int, input().split()))\n",
    "W = list(map(int, input().split()))\n",
    "\n",
    "zipped = list(zip(A, W))\n",
    "zipped = sorted(zipped)\n",
    "\n",
    "ans = 0\n",
    "for i in range(1, n):\n",
    "    if zipped[i-1][0] == zipped[i][0]:\n",
    "        ans += zipped[i-1][1]\n",
    "print(ans)"
   ]
  },
  {
   "cell_type": "code",
   "execution_count": null,
   "metadata": {},
   "outputs": [],
   "source": [
    "# d TLE\n",
    "n, t = map(int, input().split())\n",
    "S = input()\n",
    "X = list(map(int, input().split()))\n",
    "\n",
    "cnt = 0\n",
    "for i in range(n):\n",
    "    for j in range(i+1, n):\n",
    "        if int(S[i])+int(S[j]) == 1:\n",
    "            if S[i] == \"1\" and X[i] < X[j]:\n",
    "                if abs(X[i]-X[j]) <= t*2:\n",
    "                    #print(i, j)\n",
    "                    cnt += 1\n",
    "            elif S[i] == \"0\" and X[i] > X[j]:\n",
    "                if abs(X[i]-X[j]) <= t*2:\n",
    "                    #print(i, j)\n",
    "                    cnt += 1\n",
    "print(cnt)\n"
   ]
  },
  {
   "cell_type": "code",
   "execution_count": null,
   "metadata": {},
   "outputs": [],
   "source": [
    "#d\n",
    "n, t = map(int, input().split())\n",
    "S = input()\n",
    "X = list(map(int, input().split()))\n",
    "\n",
    "S = list(S)\n",
    "zipped = zip(X, S)\n",
    "zipped = sorted(zipped)\n",
    "\n",
    "X1 = []\n",
    "X0 = []\n",
    "\n",
    "for i in range(n):\n",
    "    if zipped[i][1] == \"1\":\n",
    "        X1.append(zipped[i][0])\n",
    "    else:\n",
    "        X0.append(zipped[i][0])\n",
    "\n",
    "cnt = 0\n",
    "l = 0\n",
    "r = 0\n",
    "for i in range(len(X1)):\n",
    "    while l < len(X0) and X0[l] < X1[i]:\n",
    "        l += 1\n",
    "    while r < len(X0) and X0[r] <= X1[i] + 2*t:\n",
    "        r += 1\n",
    "    cnt += r-l\n",
    "print(cnt)"
   ]
  }
 ],
 "metadata": {
  "language_info": {
   "name": "python"
  }
 },
 "nbformat": 4,
 "nbformat_minor": 2
}
