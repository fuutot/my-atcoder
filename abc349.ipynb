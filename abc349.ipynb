{
 "cells": [
  {
   "cell_type": "code",
   "execution_count": null,
   "metadata": {},
   "outputs": [],
   "source": [
    "N = int(input())\n",
    "A = list(map(int, input().split()))\n",
    "ans = sum(A)\n",
    "ans = -ans\n",
    "print(ans)"
   ]
  },
  {
   "cell_type": "code",
   "execution_count": 8,
   "metadata": {},
   "outputs": [
    {
     "name": "stdout",
     "output_type": "stream",
     "text": [
      "0 2\n",
      "0 2\n",
      "0 2\n",
      "0 2\n",
      "0 2\n",
      "0 2\n",
      "Yes\n"
     ]
    }
   ],
   "source": [
    "import collections\n",
    "\n",
    "S = input()\n",
    "ans = \"Yes\"\n",
    "c = collections.Counter(S)\n",
    "c_value = list(c.values())\n",
    "for i in range(len(c_value)):\n",
    "    cnt = 0\n",
    "    for j in range(len(c_value)):\n",
    "        if c_value[i] == c_value[j]:\n",
    "            cnt += 1\n",
    "    #print(c[i], cnt)   \n",
    "    if cnt != 0:\n",
    "        if cnt != 2:\n",
    "            ans = \"No\"\n",
    "            break\n",
    "\n",
    "\n",
    "print(ans)"
   ]
  },
  {
   "cell_type": "code",
   "execution_count": 14,
   "metadata": {},
   "outputs": [
    {
     "name": "stdout",
     "output_type": "stream",
     "text": [
      "Yes\n"
     ]
    }
   ],
   "source": [
    "S = input()\n",
    "T = input()\n",
    "T = T.lower()\n",
    "T = list(T)\n",
    "ans = \"No\"\n",
    "target = T[0]\n",
    "# 最後がxの時、２つの部分列でT[:2]作る\n",
    "if T[-1] == \"x\":\n",
    "    i = 0\n",
    "    for t in T[:2]:\n",
    "        while i < len(S) and S[i] != t:\n",
    "            i += 1\n",
    "        if i == len(S):\n",
    "            break\n",
    "        i += 1\n",
    "    ans = \"Yes\"\n",
    "# 3つの部分列でTを作る\n",
    "else:\n",
    "    i = 0\n",
    "    for t in T:\n",
    "        while i < len(S) and S[i] != t:\n",
    "            i += 1\n",
    "        if i == len(S):\n",
    "            break\n",
    "        i += 1\n",
    "    ans = \"Yes\"\n",
    "print(ans)"
   ]
  },
  {
   "cell_type": "code",
   "execution_count": null,
   "metadata": {},
   "outputs": [],
   "source": [
    "def check(S, T):\n",
    "    i = 0\n",
    "    for t in T:\n",
    "        while i < len(S) and S[i] != t:\n",
    "            i += 1\n",
    "        if i == len(S):\n",
    "            return False\n",
    "        i += 1\n",
    "    return True\n",
    "\n",
    "S = input().upper()\n",
    "T = input()\n",
    "print(\"Yes\" if check(S, T if T[-1] != \"X\" else T[:-1]) else \"No\")"
   ]
  },
  {
   "cell_type": "code",
   "execution_count": null,
   "metadata": {},
   "outputs": [],
   "source": [
    "L, R = map(int, input().split())\n",
    "\n"
   ]
  }
 ],
 "metadata": {
  "kernelspec": {
   "display_name": "Python 3",
   "language": "python",
   "name": "python3"
  },
  "language_info": {
   "codemirror_mode": {
    "name": "ipython",
    "version": 3
   },
   "file_extension": ".py",
   "mimetype": "text/x-python",
   "name": "python",
   "nbconvert_exporter": "python",
   "pygments_lexer": "ipython3",
   "version": "3.12.2"
  }
 },
 "nbformat": 4,
 "nbformat_minor": 2
}
