{
 "cells": [
  {
   "cell_type": "code",
   "execution_count": null,
   "metadata": {},
   "outputs": [],
   "source": [
    "x, a = map(int, input().split())\n",
    "if x < a:\n",
    "    print(0)\n",
    "else:\n",
    "    print(10)"
   ]
  },
  {
   "cell_type": "code",
   "execution_count": null,
   "metadata": {},
   "outputs": [],
   "source": [
    "n, x = map(int, input().split())\n",
    "l = list(map(int, input().split()))\n",
    "position = 0\n",
    "cnt = 1\n",
    "for i in range(n):\n",
    "    if position + l[i] <= x:\n",
    "        cnt += 1\n",
    "        position += l[i]\n",
    "    else:\n",
    "        break\n",
    "print(cnt)"
   ]
  },
  {
   "cell_type": "code",
   "execution_count": null,
   "metadata": {},
   "outputs": [],
   "source": [
    "w, h, x, y = map(int, input().split())\n",
    "\n",
    "max_area = w*h/2\n",
    "way = 1\n",
    "if x == w or y == h:\n",
    "    way = 0\n",
    "elif x != w/2 or y != h/2:\n",
    "    way = 0\n",
    "print(max_area, way)"
   ]
  },
  {
   "cell_type": "code",
   "execution_count": null,
   "metadata": {},
   "outputs": [],
   "source": [
    "n, k = map(int, input().split())\n",
    "a = list(map(int, input().split()))\n",
    "\n",
    "ruiseki = [None for i in range(n+1)]\n",
    "ruiseki[0] = 0\n",
    "ruiseki[1] = a[0]\n",
    "cnt = 0\n",
    "for i in range(2, n+1):\n",
    "    ruiseki[i] = ruiseki[i-1]+a[i-1]\n",
    "for left in range(n+1):\n",
    "    for right in range(left, n+1):\n",
    "        if ruiseki[right]-ruiseki[left] >= k:\n",
    "            cnt += 1\n",
    "#print(ruiseki)\n",
    "print(cnt)"
   ]
  }
 ],
 "metadata": {
  "language_info": {
   "name": "python"
  }
 },
 "nbformat": 4,
 "nbformat_minor": 2
}
