{
 "cells": [
  {
   "cell_type": "code",
   "execution_count": null,
   "metadata": {},
   "outputs": [],
   "source": [
    "# めぐる式二分探索\n",
    "\n",
    "def is_ok(arg):\n",
    "    # 条件を満たすかどうか？問題ごとに定義\n",
    "    pass\n",
    "\n",
    "\n",
    "def meguru_bisect(ng, ok):\n",
    "    '''\n",
    "    二分探索を行う関数。まず満たしてほしい条件をis_okに定義する\n",
    "    params:\n",
    "        ng: 満たさないindexを指定\n",
    "        ok: 満たすindexを指定\n",
    "    '''\n",
    "    while (abs(ok - ng) > 1): # 隣あうまでやる\n",
    "        mid = (ok + ng) // 2\n",
    "        if is_ok(mid):\n",
    "            ok = mid # okは常に条件を満たす\n",
    "        else:\n",
    "            ng = mid # ngは常に条件を満たさない\n",
    "    return ok"
   ]
  },
  {
   "cell_type": "code",
   "execution_count": null,
   "metadata": {},
   "outputs": [],
   "source": [
    "# 動的計画法\n",
    "\n",
    "# 入力読み込み\n",
    "N = int(input())\n",
    "h = list(map(int,input().split()))\n",
    "\n",
    "# DP 配列を用意\n",
    "# dp[i] は i 番目の値に対応する\n",
    "dp = [0]*N\n",
    "\n",
    "# 初期条件を入力\n",
    "dp[0] = 0\n",
    "dp[1] = abs(h[1]-h[0])\n",
    "\n",
    "# 漸化式にしたがって DP を実装する\n",
    "for i in range(2,N):\n",
    "  # i を現在いる足場と考える。\n",
    "  # i 番目の足場へ行く方法として i-i 番目からのジャンプと i-2 番目からのジャンプがある\n",
    "  # 2 通りの行き方のうちコストの少ない方を dp[i] とする\n",
    "  dp[i] = min(dp[i-2]+abs(h[i]-h[i-2]),dp[i-1]+abs(h[i]-h[i-1]))\n",
    "\n",
    "# dp 配列の末尾が N 番目の足場にたどり着くために必要なコストとなる\n",
    "print(dp[-1])\n"
   ]
  },
  {
   "cell_type": "code",
   "execution_count": null,
   "metadata": {},
   "outputs": [],
   "source": [
    "# 累積和\n",
    "\n",
    "N = int(input()) # 配列サイズ\n",
    "l = list(map(int, input().split()))\n",
    "# 累積和\n",
    "s = [None for i in range(N+2)] # 左が開区間、右が閉区間\n",
    "\n",
    "s[0]=0\n",
    "\n",
    "for i in range(N+2):\n",
    "    s[i+1] = l[i] + s[i]"
   ]
  }
 ],
 "metadata": {
  "language_info": {
   "name": "python"
  }
 },
 "nbformat": 4,
 "nbformat_minor": 2
}
