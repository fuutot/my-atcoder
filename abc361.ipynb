{
 "cells": [
  {
   "cell_type": "code",
   "execution_count": null,
   "metadata": {},
   "outputs": [],
   "source": [
    "#c\n",
    "n, k = map(int, input().split())\n",
    "A = list(map(int, input().split()))\n",
    "\n",
    "A.sort()\n",
    "ans = float('inf')\n",
    "for i in range(n):\n",
    "    l = A[i]\n",
    "    if i+n-k-1 >= n:\n",
    "        break\n",
    "    r = A[i+n-k-1]\n",
    "    if ans > r-l:\n",
    "        ans = r-l\n",
    "print(ans)"
   ]
  }
 ],
 "metadata": {
  "language_info": {
   "name": "python"
  }
 },
 "nbformat": 4,
 "nbformat_minor": 2
}
