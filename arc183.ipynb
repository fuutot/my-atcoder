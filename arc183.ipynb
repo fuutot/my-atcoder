{
 "cells": [
  {
   "cell_type": "code",
   "execution_count": null,
   "metadata": {},
   "outputs": [],
   "source": [
    "import math\n",
    "import itertools\n",
    "\n",
    "n, k = map(int, input().split())\n",
    "\n",
    "el = [str(i) for i in range(1, n+1) for _ in range(k)]\n",
    "seq = list(set(itertools.permutations(el)))\n",
    "seq.sort()\n",
    "s = math.factorial(n*k) // (math.factorial(k) ** n)\n",
    "ans_index = (s+1) // 2 - 1\n",
    "\n",
    "print(\" \".join(seq[ans_index]))"
   ]
  },
  {
   "cell_type": "code",
   "execution_count": null,
   "metadata": {},
   "outputs": [],
   "source": [
    "n, k = map(int, input().split())\n",
    "\n",
    "el = [str(i) for i in range(1, n+1) for j in range(k)]\n",
    "ans = []\n",
    "if n % 2 == 0:\n",
    "    ans.append(str(n//2))\n",
    "    el.remove(str(n//2))\n",
    "    el.sort(reverse=True)\n",
    "    ans += el\n",
    "else:\n",
    "    ans = [str((n+1)//2)] * k\n",
    "    el = [i for i in el if i != str((n+1)//2)]\n",
    "    if len(el) > 0:\n",
    "        ans.append(str((n+1)//2-1))\n",
    "        el.remove(str((n+1)//2-1))\n",
    "        el.sort(reverse=True)\n",
    "        ans += el\n",
    "\n",
    "print(*ans)"
   ]
  },
  {
   "cell_type": "code",
   "execution_count": null,
   "metadata": {},
   "outputs": [],
   "source": []
  }
 ],
 "metadata": {
  "kernelspec": {
   "display_name": ".venv",
   "language": "python",
   "name": "python3"
  },
  "language_info": {
   "codemirror_mode": {
    "name": "ipython",
    "version": 3
   },
   "file_extension": ".py",
   "mimetype": "text/x-python",
   "name": "python",
   "nbconvert_exporter": "python",
   "pygments_lexer": "ipython3",
   "version": "3.12.2"
  }
 },
 "nbformat": 4,
 "nbformat_minor": 2
}
