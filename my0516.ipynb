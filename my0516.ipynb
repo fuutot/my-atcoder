{
 "cells": [
  {
   "cell_type": "code",
   "execution_count": null,
   "metadata": {},
   "outputs": [],
   "source": [
    "S = input()\n",
    "ans = \"Good\"\n",
    "for i in range(1, len(S)):\n",
    "    if S[i-1] == S[i]:\n",
    "        ans = \"Bad\"\n",
    "        break\n",
    "print(ans)"
   ]
  },
  {
   "cell_type": "code",
   "execution_count": null,
   "metadata": {},
   "outputs": [],
   "source": [
    "n, l = map(int, input().split())\n",
    "comp_taste = 500\n",
    "no_taste = 500\n",
    "total_taste = 0\n",
    "for i in range(1, n+1):\n",
    "    if comp_taste > abs(l+i-1):\n",
    "        comp_taste = abs(l+i-1)\n",
    "        no_taste = l+i-1\n",
    "    total_taste += (l+i-1)\n",
    "#print(comp_taste)\n",
    "#print(no_taste)\n",
    "print(total_taste-no_taste)"
   ]
  },
  {
   "cell_type": "code",
   "execution_count": 3,
   "metadata": {},
   "outputs": [
    {
     "name": "stdout",
     "output_type": "stream",
     "text": [
      "2\n"
     ]
    }
   ],
   "source": [
    "def count_multiples(n, a):\n",
    "    # nをaで割った商を求める\n",
    "    quotient = n // a\n",
    "    return quotient\n",
    "\n",
    "# 使用例\n",
    "n = 6\n",
    "a = 3\n",
    "print(count_multiples(n, a))  # 整数1から20までで3の倍数の数を数える"
   ]
  },
  {
   "cell_type": "code",
   "execution_count": null,
   "metadata": {},
   "outputs": [],
   "source": [
    "a, b, c, d = map(int, input().split())\n",
    "large = b-((b//c)+(b//d)+(b//(c*d)))\n",
    "small = a-((a-1//c)+(a-1//d)+(a-1//(c*d)))\n",
    "print(large-small))"
   ]
  }
 ],
 "metadata": {
  "kernelspec": {
   "display_name": ".venv",
   "language": "python",
   "name": "python3"
  },
  "language_info": {
   "codemirror_mode": {
    "name": "ipython",
    "version": 3
   },
   "file_extension": ".py",
   "mimetype": "text/x-python",
   "name": "python",
   "nbconvert_exporter": "python",
   "pygments_lexer": "ipython3",
   "version": "3.12.2"
  }
 },
 "nbformat": 4,
 "nbformat_minor": 2
}
