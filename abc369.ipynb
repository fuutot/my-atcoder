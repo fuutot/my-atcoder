{
 "cells": [
  {
   "cell_type": "code",
   "execution_count": null,
   "metadata": {},
   "outputs": [],
   "source": [
    "a, b = map(int, input().split())\n",
    "cnt = 2\n",
    "diff = abs(a-b)\n",
    "if a == b:\n",
    "    cnt = 1\n",
    "else:\n",
    "    if diff % 2 == 0:\n",
    "        cnt += 1\n",
    "\n",
    "print(cnt)"
   ]
  },
  {
   "cell_type": "code",
   "execution_count": null,
   "metadata": {},
   "outputs": [],
   "source": [
    "n = int(input())\n",
    "L = []\n",
    "R = []\n",
    "for i in range(n):\n",
    "    a, s = input().split()\n",
    "    if s == 'L':\n",
    "        L.append(int(a))\n",
    "    else:\n",
    "        R.append(int(a))\n",
    "\n",
    "ans = 0\n",
    "for i in range(1, len(L)):\n",
    "    ans += abs(L[i]-L[i-1])\n",
    "for i in range(1, len(R)):\n",
    "    ans += abs(R[i]-R[i-1])\n",
    "print(ans)"
   ]
  },
  {
   "cell_type": "code",
   "execution_count": null,
   "metadata": {},
   "outputs": [],
   "source": [
    "n = int(input())\n",
    "A = list(map(int, input().split()))\n",
    "\n",
    "ans = n\n",
    "for l in range(n-1):\n",
    "    diff = A[l+1]-A[l]\n",
    "    for r in range(l+1, n):\n",
    "        if A[r]-A[l] == diff*(r-l):\n",
    "            #print(l, r)\n",
    "            ans += 1\n",
    "        else:\n",
    "            break\n",
    "print(ans)"
   ]
  },
  {
   "cell_type": "code",
   "execution_count": null,
   "metadata": {},
   "outputs": [],
   "source": []
  }
 ],
 "metadata": {
  "language_info": {
   "name": "python"
  }
 },
 "nbformat": 4,
 "nbformat_minor": 2
}
