{
 "cells": [
  {
   "cell_type": "code",
   "execution_count": null,
   "metadata": {},
   "outputs": [],
   "source": [
    "n, t, a = map(int, input().split())\n",
    "max_val = max(t, a)\n",
    "if max_val > n//2:\n",
    "    print('Yes')\n",
    "else:\n",
    "    print('No')"
   ]
  },
  {
   "cell_type": "code",
   "execution_count": null,
   "metadata": {},
   "outputs": [],
   "source": [
    "n = int(input())\n",
    "S = [None] * n\n",
    "for i in range(n):\n",
    "    S[i] = input()\n",
    "m = max(map(len, S))\n",
    "T = [[\"*\"] * n for _ in range(m)] # [['*'] * n] * m うまくいかない\n",
    "\n",
    "for i in range(n):\n",
    "    for j in range(len(S[i])):\n",
    "        T[j][n-i-1] = S[i][j]\n",
    "for i in range(m):\n",
    "    while T[i][-1] == \"*\":\n",
    "        T[i].pop()\n",
    "    print(\"\".join(T[i]))"
   ]
  },
  {
   "cell_type": "code",
   "execution_count": null,
   "metadata": {},
   "outputs": [],
   "source": [
    "q = int(input())\n",
    "query = [None] * q\n",
    "for i in range(q):\n",
    "    query[i] = input().split()\n",
    "\n",
    "bag = dict()\n",
    "\n",
    "cnt = 0\n",
    "for i in range(q):\n",
    "    if query[i][0] == '1':\n",
    "        if query[i][1] not in bag:\n",
    "            cnt += 1\n",
    "            bag[query[i][1]] = 0\n",
    "        elif bag[query[i][1]] == 0:\n",
    "            cnt += 1\n",
    "        bag[query[i][1]] += 1\n",
    "    elif query[i][0] == '2':\n",
    "        bag[query[i][1]] -= 1\n",
    "        if bag[query[i][1]] == 0:\n",
    "            cnt -= 1\n",
    "    else:\n",
    "        print(cnt)"
   ]
  }
 ],
 "metadata": {
  "kernelspec": {
   "display_name": ".venv",
   "language": "python",
   "name": "python3"
  },
  "language_info": {
   "codemirror_mode": {
    "name": "ipython",
    "version": 3
   },
   "file_extension": ".py",
   "mimetype": "text/x-python",
   "name": "python",
   "nbconvert_exporter": "python",
   "pygments_lexer": "ipython3",
   "version": "3.12.2"
  }
 },
 "nbformat": 4,
 "nbformat_minor": 2
}
