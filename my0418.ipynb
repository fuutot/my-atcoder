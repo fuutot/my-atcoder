{
 "cells": [
  {
   "cell_type": "code",
   "execution_count": null,
   "metadata": {},
   "outputs": [],
   "source": [
    "A, B = map(int, input().split())\n",
    "ans = 0\n",
    "if A >= 13:\n",
    "    ans = B\n",
    "elif A >= 6:\n",
    "    ans = B // 2\n",
    "else:\n",
    "    ans = 0\n",
    "print(ans)"
   ]
  },
  {
   "cell_type": "code",
   "execution_count": null,
   "metadata": {},
   "outputs": [],
   "source": [
    "r, D, x_2000 = map(int, input().split())\n",
    "for i in range(10):\n",
    "    x_2000 = r*x_2000-D\n",
    "    print(x_2000)"
   ]
  },
  {
   "cell_type": "code",
   "execution_count": null,
   "metadata": {},
   "outputs": [],
   "source": [
    "N, M = map(int, input().split())\n",
    "L = [None for i in range(M)]\n",
    "R = [None for i in range(M)]\n",
    "for i in range(M):\n",
    "    L[i], R[i] = map(int, input().split())\n",
    "\n",
    "cnt = 0\n",
    "\n",
    "for card in range(1, N+1):\n",
    "    for j in range(M):\n",
    "        if L[j] <= card <= R[j]:\n",
    "            if j == M-1:\n",
    "                cnt += 1\n",
    "        else:\n",
    "            break\n",
    "\n",
    "print(cnt)\n"
   ]
  },
  {
   "cell_type": "code",
   "execution_count": null,
   "metadata": {},
   "outputs": [],
   "source": [
    "N, M = map(int, input().split())\n",
    "L = [None for i in range(M)]\n",
    "R = [None for i in range(M)]\n",
    "for i in range(M):\n",
    "    L[i], R[i] = map(int, input().split())\n",
    "\n",
    "ans = [0 for _ in range(N+1)]\n",
    "\n",
    "for i in range(M):\n",
    "    ans[L[i]:R[i]+1] = [x+y for (x, y) in zip(ans[L[i]:R[i]+1], [1 for _ in range(L[i], R[i]+1)])] \n",
    "\n",
    "print(ans.count(M))"
   ]
  },
  {
   "cell_type": "code",
   "execution_count": null,
   "metadata": {},
   "outputs": [],
   "source": [
    "N, M = map(int, input().split())\n",
    "L = [None for i in range(M)]\n",
    "R = [None for i in range(M)]\n",
    "\n",
    "\n",
    "\n"
   ]
  }
 ],
 "metadata": {
  "language_info": {
   "name": "python"
  }
 },
 "nbformat": 4,
 "nbformat_minor": 2
}
