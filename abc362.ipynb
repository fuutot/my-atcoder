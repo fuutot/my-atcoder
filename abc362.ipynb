{
 "cells": [
  {
   "cell_type": "code",
   "execution_count": null,
   "metadata": {},
   "outputs": [],
   "source": [
    "# c\n",
    "n = int(input())\n",
    "L = [None for i in range(n)]\n",
    "R = [None for i in range(n)]\n",
    "for i in range(n):\n",
    "    L[i], R[i] = map(int, input().split())\n",
    "\n",
    "ans = 'Yes'\n",
    "if sum(L) > 0:\n",
    "    ans = \"No\"\n",
    "elif sum(R) < 0:\n",
    "    ans = \"No\"\n",
    "else:\n",
    "    X = L.copy()\n",
    "    total = sum(X)\n",
    "    for i in range(n):\n",
    "        d = min(R[i]-L[i], -total)\n",
    "        X[i] += d\n",
    "        total += d\n",
    "print(ans)\n",
    "if ans == 'Yes':\n",
    "    print(*X)"
   ]
  },
  {
   "cell_type": "code",
   "execution_count": null,
   "metadata": {},
   "outputs": [],
   "source": [
    "from heapq import heappush, heappop\n",
    "import sys\n",
    "\n",
    "input = sys.stdin.readline\n",
    "\n",
    "\n",
    "def dijkstra(G, s):\n",
    "    INF = 10**18\n",
    "    dist = [INF] * len(G)\n",
    "    dist[s] = 0\n",
    "    pq = [(0, s)]\n",
    "    while pq:\n",
    "        d, v = heappop(pq)\n",
    "        if d > dist[v]:\n",
    "            continue\n",
    "        for u, weight in G[v]:\n",
    "            nd = d + weight\n",
    "            if dist[u] > nd:\n",
    "                dist[u] = nd\n",
    "                heappush(pq, (nd, u))\n",
    "    return dist\n",
    "\n",
    "\n",
    "N, M = map(int, input().split())\n",
    "A = list(map(int, input().split()))\n",
    "G = [[] for _ in range(N)]\n",
    "for _ in range(M):\n",
    "    U, V, B = map(int, input().split())\n",
    "    U -= 1\n",
    "    V -= 1\n",
    "    G[U].append((V, B + A[V]))\n",
    "    G[V].append((U, B + A[U]))\n",
    "dist = dijkstra(G, 0)\n",
    "for i in range(N):\n",
    "    dist[i] += A[0]\n",
    "print(*dist[1:])"
   ]
  }
 ],
 "metadata": {
  "language_info": {
   "name": "python"
  }
 },
 "nbformat": 4,
 "nbformat_minor": 2
}
