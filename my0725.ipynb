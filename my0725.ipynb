{
 "cells": [
  {
   "cell_type": "code",
   "execution_count": null,
   "metadata": {},
   "outputs": [],
   "source": [
    "S = input()\n",
    "if S == 'Sunny':\n",
    "    print('Cloudy')\n",
    "elif S == 'Cloudy':\n",
    "    print('Rainy')\n",
    "else:\n",
    "    print('Sunny')"
   ]
  },
  {
   "cell_type": "code",
   "execution_count": null,
   "metadata": {},
   "outputs": [],
   "source": [
    "S = input()\n",
    "\n",
    "ans = 'Yes'\n",
    "for i in range(len(S)):\n",
    "    if i % 2 == 0:\n",
    "        if S[i] not in {'R', 'U', 'D'}:\n",
    "            ans = 'No'\n",
    "            break\n",
    "    else:\n",
    "        if S[i] not in {'L', 'U', 'D'}:\n",
    "            ans = 'No'\n",
    "            break\n",
    "print(ans)\n"
   ]
  },
  {
   "cell_type": "code",
   "execution_count": null,
   "metadata": {},
   "outputs": [],
   "source": [
    "n, k, q = map(int, input().split())\n",
    "A = dict(zip([i for i in range(1, n+1)], [0 for i in range(n)]))\n",
    "\n",
    "for i in range(q):\n",
    "    a = int(input())\n",
    "    A[a] += 1\n",
    "\n",
    "ans = [k for i in range(n)]\n",
    "for k, v in A.items():\n",
    "    ans[k-1] -= q-v\n",
    "\n",
    "for i in range(n):\n",
    "    if ans[i] > 0:\n",
    "        print('Yes')\n",
    "    else:\n",
    "        print('No')"
   ]
  },
  {
   "cell_type": "code",
   "execution_count": null,
   "metadata": {},
   "outputs": [],
   "source": [
    "import heapq\n",
    "\n",
    "n, m = map(int, input().split())\n",
    "A = list(map(lambda x:int(x)*(-1), input().split())) #-1倍してからリストに格納\n",
    "heapq.heapify(A) #優先度付きキューに変換\n",
    "\n",
    "for _ in range(m):\n",
    "    max_value = heapq.heappop(A)*(-1) #最大値の取得\n",
    "    heapq.heappush(A, (max_value//2)*(-1)) #半額にして-1倍してからキューに戻す\n",
    "\n",
    "print((-1)*sum(A)) #最後に-1倍を忘れずに"
   ]
  }
 ],
 "metadata": {
  "language_info": {
   "name": "python"
  }
 },
 "nbformat": 4,
 "nbformat_minor": 2
}
