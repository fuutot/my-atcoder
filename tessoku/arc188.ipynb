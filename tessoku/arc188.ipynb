{
 "cells": [
  {
   "cell_type": "code",
   "execution_count": null,
   "metadata": {},
   "outputs": [
    {
     "name": "stdout",
     "output_type": "stream",
     "text": [
      "True\n"
     ]
    }
   ],
   "source": [
    "from collections import Counter\n",
    "\n",
    "#n, k = map(int, input().split())\n",
    "#S = input()\n",
    "\n",
    "\n",
    "\n",
    "def are_all_counts_even_or_odd(string):\n",
    "    # 各文字の出現回数をカウント\n",
    "    char_counts = Counter(string)\n",
    "    \n",
    "    # 出現回数のリストを取得\n",
    "    counts = list(char_counts.values())\n",
    "    \n",
    "    # 偶数チェック\n",
    "    all_even = all(count % 2 == 0 for count in counts)\n",
    "    # 奇数チェック\n",
    "    all_odd = all(count % 2 != 0 for count in counts)\n",
    "    \n",
    "    # 全て偶数または全て奇数ならTrueを返す\n",
    "    return all_even or all_odd\n",
    "\n",
    "# 使用例\n",
    "input_string = \"AABBCCABC\"\n",
    "character_counts = are_all_counts_even_or_odd(input_string)\n",
    "\n",
    "# 結果表示\n",
    "print(character_counts)\n",
    "\n"
   ]
  },
  {
   "cell_type": "code",
   "execution_count": null,
   "metadata": {},
   "outputs": [],
   "source": []
  }
 ],
 "metadata": {
  "kernelspec": {
   "display_name": ".venv",
   "language": "python",
   "name": "python3"
  },
  "language_info": {
   "codemirror_mode": {
    "name": "ipython",
    "version": 3
   },
   "file_extension": ".py",
   "mimetype": "text/x-python",
   "name": "python",
   "nbconvert_exporter": "python",
   "pygments_lexer": "ipython3",
   "version": "3.12.2"
  }
 },
 "nbformat": 4,
 "nbformat_minor": 2
}
