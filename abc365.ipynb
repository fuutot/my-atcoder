{
 "cells": [
  {
   "cell_type": "code",
   "execution_count": null,
   "metadata": {},
   "outputs": [],
   "source": [
    "# a\n",
    "y = int(input())\n",
    "\n",
    "ans = 0\n",
    "\n",
    "if y % 4 != 0:\n",
    "    ans = 365\n",
    "elif y % 100 != 0:\n",
    "    ans = 366\n",
    "elif y % 100 == 0 and y % 400 != 0:\n",
    "    ans = 365\n",
    "elif y % 400 == 0:\n",
    "    ans = 366\n",
    "print(ans)"
   ]
  },
  {
   "cell_type": "code",
   "execution_count": null,
   "metadata": {},
   "outputs": [],
   "source": [
    "# b\n",
    "n = int(input())\n",
    "A = list(map(int, input().split()))\n",
    "\n",
    "max_val = 0\n",
    "max_val_i = 0\n",
    "for i in range(n):\n",
    "    if A[i] > max_val:\n",
    "        max_val = A[i]\n",
    "        max_val_i = i\n",
    "\n",
    "second_val = 0\n",
    "ans = 0\n",
    "for i in range(n):\n",
    "    if i != max_val_i:\n",
    "        if A[i] > second_val:\n",
    "            second_val = A[i]\n",
    "            ans = i\n",
    "print(ans+1)"
   ]
  },
  {
   "cell_type": "code",
   "execution_count": null,
   "metadata": {},
   "outputs": [],
   "source": [
    "# c\n",
    "n, m = map(int, input().split())\n",
    "A = list(map(int, input().split()))\n",
    "\n",
    "# めぐる式二分探索\n",
    "\n",
    "def is_ok(arg):\n",
    "    # 条件を満たすかどうか？問題ごとに定義\n",
    "    s = sum(min(arg, a) for a in A)\n",
    "    return s <= m\n",
    "\n",
    "\n",
    "def meguru_bisect(ng, ok):\n",
    "    '''\n",
    "    二分探索を行う関数。まず満たしてほしい条件をis_okに定義する\n",
    "    params:\n",
    "        ng: 満たさないindexを指定\n",
    "        ok: 満たすindexを指定\n",
    "    '''\n",
    "    while (abs(ok - ng) > 1): # 隣あうまでやる\n",
    "        mid = (ok + ng) // 2\n",
    "        if is_ok(mid):\n",
    "            ok = mid # okは常に条件を満たす\n",
    "        else:\n",
    "            ng = mid # ngは常に条件を満たさない\n",
    "    return ok\n",
    "\n",
    "\n",
    "ans = 'infinite'\n",
    "\n",
    "A.sort(reverse=True)\n",
    "total = sum(A)\n",
    "\n",
    "if total > m:\n",
    "    ans = meguru_bisect(A[0], 0)\n",
    "print(ans)"
   ]
  }
 ],
 "metadata": {
  "language_info": {
   "name": "python"
  }
 },
 "nbformat": 4,
 "nbformat_minor": 2
}
