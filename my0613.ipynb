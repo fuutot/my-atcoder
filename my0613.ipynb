{
 "cells": [
  {
   "cell_type": "code",
   "execution_count": null,
   "metadata": {},
   "outputs": [],
   "source": [
    "a, b = map(int, input().split())\n",
    "ans = \"IMPOSSIBLE\"\n",
    "tmp = (a+b)/2\n",
    "try:\n",
    "    \n",
    "print(ans)"
   ]
  },
  {
   "cell_type": "code",
   "execution_count": null,
   "metadata": {},
   "outputs": [],
   "source": [
    "n = int(input())\n",
    "p = list(map(int, input().split()))\n",
    "\n",
    "cnt = 0\n",
    "ans = \"YES\"\n",
    "sorted_list = sorted(p)\n",
    "for i in range(n):\n",
    "    if sorted_list[i] != p[i]:\n",
    "        cnt += 1\n",
    "if cnt > 2:\n",
    "    ans = \"NO\"\n",
    "print(ans)"
   ]
  },
  {
   "cell_type": "code",
   "execution_count": null,
   "metadata": {},
   "outputs": [],
   "source": [
    "n = int(input())\n",
    "a = list(map(int, input().split()))\n",
    "b = list(map(int, input().split()))\n",
    "\n",
    "cnt = 0\n",
    "for i in range(n-1, -1, -1):\n",
    "    kill = min(b[i], a[i+1]+a[i])\n",
    "    cnt += kill\n",
    "    if a[i+1] < kill:\n",
    "        a[i] -= kill - a[i+1]\n",
    "print(cnt)"
   ]
  }
 ],
 "metadata": {
  "language_info": {
   "name": "python"
  }
 },
 "nbformat": 4,
 "nbformat_minor": 2
}
