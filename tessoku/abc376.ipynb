{
 "cells": [
  {
   "cell_type": "code",
   "execution_count": null,
   "metadata": {},
   "outputs": [],
   "source": [
    "# a\n",
    "n, c = map(int, input().split())\n",
    "T = list(map(int, input().split()))\n",
    "\n",
    "cnt = 1\n",
    "pred = T[0]\n",
    "for i in range(1, n):\n",
    "    t = T[i]\n",
    "    if t - pred >= c:\n",
    "        cnt += 1\n",
    "        pred = t\n",
    "print(cnt)"
   ]
  },
  {
   "cell_type": "code",
   "execution_count": null,
   "metadata": {},
   "outputs": [],
   "source": [
    "# b\n",
    "n, q = map(int, input().split())\n",
    "H = [None] * q\n",
    "T = [None] * q\n",
    "for i in range(q):\n",
    "    H[i], T[i] = input().split()\n",
    "\n",
    "l = 1\n",
    "r = 2\n",
    "cnt = 0\n",
    "for i in range(q):\n",
    "    hand = H[i]\n",
    "    t = int(T[i])\n",
    "    if hand == \"L\":\n",
    "        normal = abs(l - t)\n",
    "        inverse = n - abs(l - t)\n",
    "        if l < t < r:\n",
    "            cnt += normal\n",
    "        elif l < r < t:\n",
    "            cnt += inverse\n",
    "        elif t < l < r:\n",
    "            cnt += normal\n",
    "        elif t < r < l:\n",
    "            cnt += inverse\n",
    "        elif r < l < t:\n",
    "            cnt += normal\n",
    "        else:\n",
    "            cnt += normal\n",
    "        l = t\n",
    "    else:\n",
    "        normal = abs(r - t)\n",
    "        inverse = n - abs(r - t)\n",
    "        if l < t < r:\n",
    "            cnt += normal\n",
    "        elif l < r < t:\n",
    "            cnt += normal\n",
    "        elif t < l < r:\n",
    "            cnt += inverse\n",
    "        elif t < r < l:\n",
    "            cnt += normal\n",
    "        elif r < l < t:\n",
    "            cnt += inverse\n",
    "        else:\n",
    "            cnt += normal\n",
    "        r = t\n",
    "print(cnt)"
   ]
  },
  {
   "cell_type": "code",
   "execution_count": null,
   "metadata": {},
   "outputs": [],
   "source": [
    "# c\n",
    "n = int(input())\n",
    "A = list(map(int, input().split()))\n",
    "B = list(map(int, input().split()))\n",
    "\n",
    "ans = -1\n",
    "A.sort(reverse=True)\n",
    "B.sort(reverse=True)\n",
    "min_box = min(B)\n",
    "min_item = min(A)\n",
    "# どんな箱を買っても無理\n",
    "if min_box < min_item:\n",
    "    pass\n",
    "else:\n",
    "    for i in range(n-1):\n",
    "        if A[i] > B[i]:\n",
    "            ans = A[i]\n",
    "            break\n",
    "        else:\n",
    "            if B[i] == min_box:\n",
    "                ans = min_item\n",
    "print(ans)"
   ]
  },
  {
   "cell_type": "code",
   "execution_count": null,
   "metadata": {},
   "outputs": [],
   "source": []
  }
 ],
 "metadata": {
  "kernelspec": {
   "display_name": ".venv",
   "language": "python",
   "name": "python3"
  },
  "language_info": {
   "codemirror_mode": {
    "name": "ipython",
    "version": 3
   },
   "file_extension": ".py",
   "mimetype": "text/x-python",
   "name": "python",
   "nbconvert_exporter": "python",
   "pygments_lexer": "ipython3",
   "version": "3.12.2"
  }
 },
 "nbformat": 4,
 "nbformat_minor": 2
}
