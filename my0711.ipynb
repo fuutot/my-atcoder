{
 "cells": [
  {
   "cell_type": "code",
   "execution_count": null,
   "metadata": {},
   "outputs": [],
   "source": [
    "S = input()\n",
    "T = input()\n",
    "\n",
    "cnt = 0\n",
    "for i in range(3):\n",
    "    if S[i] == T[i]:\n",
    "        cnt += 1\n",
    "\n",
    "print(cnt)"
   ]
  },
  {
   "cell_type": "code",
   "execution_count": null,
   "metadata": {},
   "outputs": [],
   "source": [
    "a, b = map(int, input().split())\n",
    "\n",
    "cnt = 0\n",
    "tap = 1\n",
    "while tap < b:\n",
    "    cnt += 1\n",
    "    tap -= 1\n",
    "    tap += a\n",
    "print(cnt)"
   ]
  },
  {
   "cell_type": "code",
   "execution_count": null,
   "metadata": {},
   "outputs": [],
   "source": [
    "n = int(input())\n",
    "H = list(map(int, input().split()))\n",
    "\n",
    "ans = 0\n",
    "tmp = 0\n",
    "for i in range(1,n):\n",
    "    if H[i-1] >= H[i]:\n",
    "        tmp += 1\n",
    "        if i == n-1:\n",
    "          ans = max(ans, tmp)\n",
    "    else:\n",
    "        ans = max(ans, tmp)\n",
    "        tmp = 0\n",
    "\n",
    "print(ans)"
   ]
  },
  {
   "cell_type": "code",
   "execution_count": null,
   "metadata": {},
   "outputs": [],
   "source": [
    "n = int(input())\n",
    "total = (n-1)*n/2\n",
    "print(total)"
   ]
  }
 ],
 "metadata": {
  "language_info": {
   "name": "python"
  }
 },
 "nbformat": 4,
 "nbformat_minor": 2
}
