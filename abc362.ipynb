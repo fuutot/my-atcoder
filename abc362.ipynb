{
 "cells": [
  {
   "cell_type": "code",
   "execution_count": null,
   "metadata": {},
   "outputs": [],
   "source": [
    "# c\n",
    "n = int(input())\n",
    "L = [None for i in range(n)]\n",
    "R = [None for i in range(n)]\n",
    "for i in range(n):\n",
    "    L[i], R[i] = map(int, input().split())\n",
    "\n",
    "ans = 'Yes'\n",
    "if sum(L) > 0:\n",
    "    ans = \"No\"\n",
    "elif sum(R) < 0:\n",
    "    ans = \"No\"\n",
    "else:\n",
    "    X = L.copy()\n",
    "    total = sum(X)\n",
    "    for i in range(n):\n",
    "        d = min(R[i]-L[i], -total)\n",
    "        X[i] += d\n",
    "        total += d\n",
    "print(ans)\n",
    "if ans == 'Yes':\n",
    "    print(*X)"
   ]
  },
  {
   "cell_type": "code",
   "execution_count": null,
   "metadata": {},
   "outputs": [],
   "source": [
    "#d\n",
    "n, m = map(int, input().split())\n",
    "A = list(map(int, input().split()))\n",
    "G = [[] for i in range(n)]\n",
    "for i in range(m):\n",
    "    u, v, b = map(int, input().split())\n",
    "    G[u].append((v, b+A[u-1]))\n",
    "    G[v].append((u, b+A[v-1]))\n",
    "\n",
    "\n",
    "cost = [float('inf') for i in range(n)]\n",
    "cost[0] = 0\n",
    "\n",
    "\n",
    "\n",
    "\n"
   ]
  }
 ],
 "metadata": {
  "language_info": {
   "name": "python"
  }
 },
 "nbformat": 4,
 "nbformat_minor": 2
}
