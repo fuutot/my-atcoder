{
 "cells": [
  {
   "cell_type": "code",
   "execution_count": 2,
   "metadata": {},
   "outputs": [
    {
     "ename": "ValueError",
     "evalue": "not enough values to unpack (expected 2, got 0)",
     "output_type": "error",
     "traceback": [
      "\u001b[0;31m---------------------------------------------------------------------------\u001b[0m",
      "\u001b[0;31mValueError\u001b[0m                                Traceback (most recent call last)",
      "Cell \u001b[0;32mIn[2], line 1\u001b[0m\n\u001b[0;32m----> 1\u001b[0m N, K \u001b[38;5;241m=\u001b[39m \u001b[38;5;28mmap\u001b[39m(\u001b[38;5;28mint\u001b[39m, \u001b[38;5;28minput\u001b[39m()\u001b[38;5;241m.\u001b[39msplit())\n\u001b[1;32m      2\u001b[0m S \u001b[38;5;241m=\u001b[39m \u001b[38;5;28minput\u001b[39m()\n\u001b[1;32m      3\u001b[0m target \u001b[38;5;241m=\u001b[39m  S[K\u001b[38;5;241m-\u001b[39m\u001b[38;5;241m1\u001b[39m]\n",
      "\u001b[0;31mValueError\u001b[0m: not enough values to unpack (expected 2, got 0)"
     ]
    }
   ],
   "source": [
    "N, K = map(int, input().split())\n",
    "S = input()\n",
    "target =  S[K-1]\n",
    "target = target.lower()\n",
    "ans = f\"{S[:K-1]}{target}{S[K:]}\"\n",
    "print(ans)"
   ]
  },
  {
   "cell_type": "code",
   "execution_count": null,
   "metadata": {},
   "outputs": [],
   "source": [
    "S = input()\n",
    "ans = \"AMBIGUOUS\"\n",
    "\n",
    "# 月判定のみする\n",
    "# 先頭について\n",
    "if int(S[:2]) > 12 or int(S[0])+int(S[1]) == 0:\n",
    "    ans = \"YYMM\"\n",
    "    # 後ろが月じゃない\n",
    "    if int(S[2:]) > 12 or int(S[2])+int(S[3]) == 0:\n",
    "        ans = \"NA\"\n",
    "# 後ろについて\n",
    "elif int(S[2:]) > 12 or int(S[2])+int(S[3]) == 0:\n",
    "    ans = \"MMYY\"\n",
    "    # 先頭が月じゃない\n",
    "    if int(S[:2]) > 12 or int(S[0])+int(S[1]) == 0:\n",
    "        ans = \"NA\"\n",
    "print(ans)\n"
   ]
  },
  {
   "cell_type": "code",
   "execution_count": null,
   "metadata": {},
   "outputs": [],
   "source": [
    "N, K = map(int, input().split())\n",
    "proba = [None for i in range(N+1)]\n",
    "for i in range(1, N+1):\n",
    "    gain = i\n",
    "    times = 0\n",
    "    while K > gain:\n",
    "        gain *= 2\n",
    "        times += 1\n",
    "    proba[i] = 1/N * (1/2)**times\n",
    "ans = sum(proba[1:])\n",
    "print(ans)"
   ]
  },
  {
   "cell_type": "code",
   "execution_count": 13,
   "metadata": {},
   "outputs": [
    {
     "name": "stdout",
     "output_type": "stream",
     "text": [
      "guu\n",
      "ki\n",
      "0\n",
      "0\n",
      "1\n"
     ]
    }
   ],
   "source": [
    "import numpy as np\n",
    "\n",
    "N = int(input())\n",
    "\n",
    "u = [None for i in range(N-1)]\n",
    "v = [None for i in range(N-1)]\n",
    "w = [None for i in range(N-1)]\n",
    "for i in range(N-1):\n",
    "    u[i], v[i], w[i] = map(int, input().split())\n",
    "ans = [None for i in range(N)]\n",
    "\n",
    "for i in range(N-1):\n",
    "    if w[i]%2 == 0:\n",
    "        if not bool(ans[u[i]-1]) and not bool(ans[v[i]-1]):\n",
    "            ans[u[i]-1], ans[v[i]-1] = [0, 0]\n",
    "        elif not bool(ans[u[i]-1]):\n",
    "            ans[u[i]-1] = ans[v[i]-1]\n",
    "        elif not bool(ans[v[i]-1]):\n",
    "            ans[v[i]-1] = ans[u[i]-1]\n",
    "    else:\n",
    "        if not bool(ans[u[i]-1]) and not bool(ans[v[i]-1]):\n",
    "            ans[u[i]-1], ans[v[i]-1] = [0, 1]\n",
    "        elif not bool(ans[u[i]-1]):\n",
    "            if ans[v[i]-1] == 1:\n",
    "                ans[u[i]-1] = 0\n",
    "            else:\n",
    "                ans[v[i]-1] = 1\n",
    "        elif not bool(ans[v[i]]-1):\n",
    "            if ans[u[i]-1] == 1:\n",
    "                ans[v[i]-1] = 0\n",
    "            else:\n",
    "                ans[v[i]-1] = 1\n",
    "for a in ans:\n",
    "    print(a)"
   ]
  },
  {
   "cell_type": "code",
   "execution_count": 14,
   "metadata": {},
   "outputs": [
    {
     "name": "stdout",
     "output_type": "stream",
     "text": [
      "b\n"
     ]
    }
   ],
   "source": [
    "if bool(None):\n",
    "    print(\"a\")\n",
    "if not bool(None):\n",
    "    print(\"b\")"
   ]
  },
  {
   "cell_type": "code",
   "execution_count": null,
   "metadata": {},
   "outputs": [],
   "source": []
  }
 ],
 "metadata": {
  "kernelspec": {
   "display_name": "Python 3",
   "language": "python",
   "name": "python3"
  },
  "language_info": {
   "codemirror_mode": {
    "name": "ipython",
    "version": 3
   },
   "file_extension": ".py",
   "mimetype": "text/x-python",
   "name": "python",
   "nbconvert_exporter": "python",
   "pygments_lexer": "ipython3",
   "version": "3.12.2"
  }
 },
 "nbformat": 4,
 "nbformat_minor": 2
}
