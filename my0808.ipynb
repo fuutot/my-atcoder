{
 "cells": [
  {
   "cell_type": "code",
   "execution_count": null,
   "metadata": {},
   "outputs": [],
   "source": [
    "n, x = map(int, input().split())\n",
    "A = [None for i in range(n+1)]\n",
    "B = [None for i in range(n+1)]\n",
    "for i in range(1, n+1):\n",
    "    A[i], B[i] = map(int, input().split())\n",
    "\n",
    "positions = [[False for j in range(100*100+1)] for i in range(101)]\n",
    "positions[0][0] = True\n",
    "\n",
    "for i in range(1, n+1):\n",
    "    for j in range(100*100+1):\n",
    "        if positions[i-1][j]:\n",
    "            positions[i][j+A[i]] = True\n",
    "            positions[i][j+B[i]] = True\n",
    "\n",
    "if positions[n][x]:\n",
    "    print('Yes')\n",
    "else:\n",
    "    print('No')"
   ]
  },
  {
   "cell_type": "code",
   "execution_count": null,
   "metadata": {},
   "outputs": [],
   "source": [
    "from sys import stdin\n",
    "n = int(stdin.readline())\n",
    "\n",
    "x_array = [None]*9\n",
    "x_array[0] = 2\n",
    "x_array[8] = 2\n",
    "for j in range(1, 8):\n",
    "    x_array[j] = 3\n",
    "\n",
    "for i in range(1, n-1):\n",
    "    tmp = [None]*9\n",
    "    for j in range(9):\n",
    "        if j == 0:\n",
    "            tmp[j] = x_array[j] + x_array[j+1]\n",
    "        elif j == 8:\n",
    "            tmp[j] = x_array[j] + x_array[j-1]\n",
    "        else:\n",
    "            tmp[j] = x_array[j] + x_array[j+1] + x_array[j-1]\n",
    "        tmp[j] = tmp[j] % 998244353\n",
    "    x_array = tmp\n",
    "ans = sum(x_array) % 998244353\n",
    "print(ans)"
   ]
  }
 ],
 "metadata": {
  "language_info": {
   "name": "python"
  }
 },
 "nbformat": 4,
 "nbformat_minor": 2
}
