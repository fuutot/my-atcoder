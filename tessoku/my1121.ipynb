{
 "cells": [
  {
   "cell_type": "code",
   "execution_count": null,
   "metadata": {},
   "outputs": [],
   "source": [
    "n, x = map(int, input().split())\n",
    "A = [None] * (n+1)\n",
    "B = [None] * (n+1)\n",
    "\n",
    "for i in range(1, n+1):\n",
    "    A[i], B[i] = map(int, input().split())\n",
    "\n",
    "CanPay = [[False for price in range(10**4+1)] for i in range(n+1)]\n",
    "CanPay[0][0] = True\n",
    "\n",
    "#print(len(CanPay))\n",
    "#print(len(CanPay[0]))\n",
    "\n",
    "for i in range(1, n+1):\n",
    "    base = A[i]\n",
    "    for price in range(10**4+1):\n",
    "        if CanPay[i-1][price]:\n",
    "            for cnt in range(B[i]+1):\n",
    "                value = base * cnt\n",
    "                newPrice = price + value\n",
    "                if newPrice > 10**4:\n",
    "                    break\n",
    "                CanPay[i][newPrice] = True\n",
    "                #print(i, price+value)\n",
    "\n",
    "if CanPay[n][x]:\n",
    "    print('Yes')\n",
    "else:\n",
    "    print('No')"
   ]
  },
  {
   "cell_type": "code",
   "execution_count": null,
   "metadata": {},
   "outputs": [
    {
     "name": "stdout",
     "output_type": "stream",
     "text": [
      "60\n"
     ]
    }
   ],
   "source": [
    "n = int(input())\n",
    "\n",
    "all = 10 ** n\n",
    "without0 = 9 ** n\n",
    "without9 = 9 ** n\n",
    "without0and9 = 8 ** n\n",
    "without0or9 = without0 + without9 - without0and9\n",
    "\n",
    "print((all - without0or9) % (10**9 + 7))"
   ]
  },
  {
   "cell_type": "code",
   "execution_count": null,
   "metadata": {},
   "outputs": [],
   "source": []
  }
 ],
 "metadata": {
  "kernelspec": {
   "display_name": ".venv",
   "language": "python",
   "name": "python3"
  },
  "language_info": {
   "codemirror_mode": {
    "name": "ipython",
    "version": 3
   },
   "file_extension": ".py",
   "mimetype": "text/x-python",
   "name": "python",
   "nbconvert_exporter": "python",
   "pygments_lexer": "ipython3",
   "version": "3.12.2"
  }
 },
 "nbformat": 4,
 "nbformat_minor": 2
}
