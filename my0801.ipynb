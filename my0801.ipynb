{
 "cells": [
  {
   "cell_type": "code",
   "execution_count": null,
   "metadata": {},
   "outputs": [],
   "source": [
    "n, k = map(int, input().split())\n",
    "A = list(map(int, input().split()))\n",
    "B = list(map(int, input().split()))\n",
    "\n",
    "dpa = [False for i in range(n)]\n",
    "dpb = [False for i in range(n)]\n",
    "\n",
    "dpa[0] = True\n",
    "dpb[0] = True\n",
    "\n",
    "for i in range(1, n):\n",
    "    if dpa[i-1]:\n",
    "        if abs(A[i-1]-A[i]) <= k:\n",
    "            dpa[i] = True\n",
    "        if abs(A[i-1]-B[i]) <= k:\n",
    "            dpb[i] = True\n",
    "    if dpb[i-1]:\n",
    "        if abs(B[i-1]-A[i]) <= k:\n",
    "            dpa[i] = True\n",
    "        if abs(B[i-1]-B[i]) <= k:\n",
    "            dpb[i] = True\n",
    "\n",
    "if dpa[n-1] or dpb[n-1]:\n",
    "    print('Yes')\n",
    "else:\n",
    "    print('No')"
   ]
  },
  {
   "cell_type": "code",
   "execution_count": null,
   "metadata": {},
   "outputs": [],
   "source": [
    "n, x, y = map(int, input().split())\n",
    "\n",
    "dpr = [0 for i in range(n+1)]\n",
    "dpb = [0 for i in range(n+1)]\n",
    "\n",
    "dpr[1] = 0\n",
    "dpb[1] = 1\n",
    "\n",
    "for i in range(2, n+1):\n",
    "    dpb[i] = dpr[i-1] + dpb[i-1]*y\n",
    "    dpr[i] = dpr[i-1] + dpb[i]*x\n",
    "\n",
    "print(dpr[n])"
   ]
  },
  {
   "cell_type": "code",
   "execution_count": null,
   "metadata": {},
   "outputs": [],
   "source": [
    "S = input()\n",
    "\n",
    "dpt = [False for i in range(len(S))]\n",
    "\n",
    "if S[0] == 'B' and S[1] == 'W':\n",
    "    dpt[0] = True\n",
    "\n",
    "for i in range(1, len(S)-1):\n",
    "    if dpt[i-1] and S[i] == 'W':\n",
    "        dpt[i] = True\n",
    "        \n",
    "print(dpt[len(S)-2])"
   ]
  }
 ],
 "metadata": {
  "language_info": {
   "name": "python"
  }
 },
 "nbformat": 4,
 "nbformat_minor": 2
}
