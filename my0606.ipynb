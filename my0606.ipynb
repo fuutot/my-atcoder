{
 "cells": [
  {
   "cell_type": "code",
   "execution_count": null,
   "metadata": {},
   "outputs": [],
   "source": [
    "r = int(input())\n",
    "area = 3*(r**2)\n",
    "print(area)"
   ]
  },
  {
   "cell_type": "code",
   "execution_count": null,
   "metadata": {},
   "outputs": [],
   "source": [
    "n, d = map(int, input().split())\n",
    "watch_area = 2*d+1\n",
    "if n % watch_area == 0:\n",
    "    ans = n//(2*d+1)\n",
    "else:\n",
    "    ans = n//(2*d+1)+1\n",
    "print(ans)"
   ]
  },
  {
   "cell_type": "code",
   "execution_count": null,
   "metadata": {},
   "outputs": [],
   "source": [
    "n = int(input())\n",
    "a = [None for i in range(n)]\n",
    "for i in range(n):\n",
    "    a[i] = int(input())\n",
    "b = a.copy()\n",
    "b.sort()\n",
    "for i in range(n):\n",
    "    index = -1\n",
    "    if a[i] == b[index]:\n",
    "        index -= 1\n",
    "    print(b[index])"
   ]
  },
  {
   "cell_type": "code",
   "execution_count": null,
   "metadata": {},
   "outputs": [],
   "source": [
    "n = int(input())\n",
    "a = list(map(int, input().split()))\n",
    "dp = [0 for i in range(n+1)]\n",
    "dp[n] = a[n-1]\n",
    "for box_i in range(n-1, 0, -1):\n",
    "    if 2*box_i < n: # 倍数の箱があったら\n",
    "        if a[box_i-1] == 1:\n",
    "            if dp[2*box_i] == 0:\n",
    "                dp[box_i] = 1\n",
    "        else:\n",
    "            if dp[2*box_i] == 1:\n",
    "                dp[box_i] = 1\n",
    "    else: # 倍数の箱がなかったら\n",
    "        dp[box_i] = a[box_i-1]\n",
    "print(sum(dp[1:]))\n",
    "for i in range(1, n+1):\n",
    "    if dp[i] == 1:\n",
    "        print(i, sep=\" \")"
   ]
  }
 ],
 "metadata": {
  "language_info": {
   "name": "python"
  }
 },
 "nbformat": 4,
 "nbformat_minor": 2
}
