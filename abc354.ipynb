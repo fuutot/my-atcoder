{
 "cells": [
  {
   "cell_type": "code",
   "execution_count": null,
   "metadata": {},
   "outputs": [],
   "source": [
    "h = int(input())\n",
    "\n",
    "now = 0\n",
    "ans = 0\n",
    "while now <= h:\n",
    "    now += 2**ans\n",
    "    ans += 1\n",
    "print(ans)"
   ]
  },
  {
   "cell_type": "code",
   "execution_count": null,
   "metadata": {},
   "outputs": [],
   "source": [
    "n = int(input())\n",
    "s = [None for _ in range(n)]\n",
    "c = [None for _ in range(n)]\n",
    "for i in range(n):\n",
    "    s, c = input().split()\n",
    "\n",
    "total = 0\n",
    "for i in range(n):\n",
    "    total += int(c[i]\n",
    "triger = total%n\n",
    "s_s = sorted(s)\n",
    "print(s_s[triger])"
   ]
  },
  {
   "cell_type": "code",
   "execution_count": null,
   "metadata": {},
   "outputs": [],
   "source": [
    "n = int(input())\n",
    "a = [None for _ in range(n)]\n",
    "c = [None for _ in range(n)]\n",
    "a_to_i = dict()\n",
    "for i in range(n):\n",
    "    a[i], c[i] = map(int, input().split())\n",
    "    a_to_i[a[i]] = i\n",
    "ans = set()\n",
    "c_sort, a_sort = zip(*sorted(zip(c, a)))\n",
    "v = 0\n",
    "for i in range(n):\n",
    "    if a_sort[i] > v:\n",
    "        v = a_sort[i]\n",
    "        ans.add(a_to_i[a_sort[i]]+1)\n",
    "print(len(ans))\n",
    "print(*sorted(list(ans)))"
   ]
  }
 ],
 "metadata": {
  "language_info": {
   "name": "python"
  }
 },
 "nbformat": 4,
 "nbformat_minor": 2
}
