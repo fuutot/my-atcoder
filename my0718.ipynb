{
 "cells": [
  {
   "cell_type": "code",
   "execution_count": null,
   "metadata": {},
   "outputs": [],
   "source": [
    "n = int(input())\n",
    "ans = n**3\n",
    "print(ans)"
   ]
  },
  {
   "cell_type": "code",
   "execution_count": null,
   "metadata": {},
   "outputs": [],
   "source": [
    "n = int(input())\n",
    "A = list(map(int, input().split()))\n",
    "B = list(map(int, input().split()))\n",
    "C = list(map(int, input().split()))\n",
    "\n",
    "ans = B[A[0]-1]\n",
    "for i in range(1, n):\n",
    "    ans += B[A[i]-1]\n",
    "    if A[i] == A[i-1]+1:\n",
    "        ans += C[A[i-1]-1]\n",
    "print(ans)"
   ]
  },
  {
   "cell_type": "code",
   "execution_count": null,
   "metadata": {},
   "outputs": [],
   "source": [
    "n = int(input())\n",
    "B = list(map(int, input().split()))\n",
    "\n",
    "A = [None for i in range(n)]\n",
    "A[0] = B[0]\n",
    "A[-1] = B[-1]\n",
    "for i in range(1, n-1):\n",
    "    if B[i-1] >= B[i]:\n",
    "        A[i] = B[i]\n",
    "    else:\n",
    "        A[i] = B[i-1]\n",
    "print(sum(A))"
   ]
  },
  {
   "cell_type": "code",
   "execution_count": null,
   "metadata": {},
   "outputs": [],
   "source": [
    "def max_happiness(N, K, S):\n",
    "    # 初期の幸福人数を計算\n",
    "    current_happiness = 0\n",
    "    for i in range(N - 1):\n",
    "        if S[i] == S[i + 1]:\n",
    "            current_happiness += 1\n",
    "\n",
    "    # 最大の幸福人数を計算する\n",
    "    # 幸福な人数は全体で最大 N-1 人であり、これを超えることはできない\n",
    "    max_happiness_possible = N - 1\n",
    "\n",
    "    # 幸福人数を増やすために最大 K 回の操作が可能\n",
    "    # 操作1回で幸福人数は最大で2増える（RR or LLがRLまたはLRになり、再度RRまたはLLに戻す）\n",
    "    max_increase = min(K * 2, max_happiness_possible - current_happiness)\n",
    "    \n",
    "    return current_happiness + max_increase\n",
    "\n",
    "N, K = map(int, input().split())\n",
    "S = input()\n",
    "\n",
    "\n",
    "# 出力\n",
    "print(max_happiness(N, K, S))\n"
   ]
  }
 ],
 "metadata": {
  "language_info": {
   "name": "python"
  }
 },
 "nbformat": 4,
 "nbformat_minor": 2
}
