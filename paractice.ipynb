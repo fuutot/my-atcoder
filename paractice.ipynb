{
 "cells": [
  {
   "cell_type": "code",
   "execution_count": null,
   "metadata": {},
   "outputs": [],
   "source": [
    "#abc106 b\n",
    "\n",
    "n = int(input())\n",
    "\n",
    "ans = 0\n",
    "for num in range(1, n+1, 2):\n",
    "    div_cnt = 0\n",
    "    for div_num in range(1, n+1, 2):\n",
    "        if num % div_num == 0:\n",
    "            div_cnt += 1\n",
    "    if div_cnt == 8:\n",
    "        ans += 1\n",
    "print(ans)"
   ]
  },
  {
   "cell_type": "code",
   "execution_count": null,
   "metadata": {},
   "outputs": [],
   "source": [
    "# abc122 b\n",
    "s = input()\n",
    "\n",
    "char = {\"A\",\"C\",\"G\",\"T\"}\n",
    "max_length = 0\n",
    "length = 0\n",
    "for d in s:\n",
    "    if d in char:\n",
    "        length += 1\n",
    "        if d == s[-1]:\n",
    "            if length > max_length:\n",
    "                max_length = length\n",
    "    else:\n",
    "        if length > max_length:\n",
    "            max_length = length\n",
    "        length = 0\n",
    "print(max_length)"
   ]
  },
  {
   "cell_type": "code",
   "execution_count": null,
   "metadata": {},
   "outputs": [],
   "source": [
    "# abc095 c\n",
    "a, b, c, x, y = map(int, input().split())\n",
    "\n",
    "total = float('inf')\n",
    "\n",
    "for ab_cnt in range(max(x, y)*2+1):\n",
    "    payment = ab_cnt*c\n",
    "\n",
    "    a_cnt = x-ab_cnt//2\n",
    "    b_cnt = y-ab_cnt//2\n",
    "    if a_cnt > 0:\n",
    "        payment += a_cnt*a\n",
    "    if b_cnt > 0:\n",
    "        payment += b_cnt*b\n",
    "\n",
    "    if payment < total:\n",
    "        total = payment\n",
    "print(total)"
   ]
  }
 ],
 "metadata": {
  "language_info": {
   "name": "python"
  }
 },
 "nbformat": 4,
 "nbformat_minor": 2
}
