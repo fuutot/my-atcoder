{
 "cells": [
  {
   "cell_type": "code",
   "execution_count": null,
   "metadata": {},
   "outputs": [],
   "source": [
    "p, q, r = map(int, input().split())\n",
    "ans = p+q\n",
    "if ans > q+r:\n",
    "    ans = q+r\n",
    "if ans > p+r:\n",
    "    ans = p+r\n",
    "print(ans)"
   ]
  },
  {
   "cell_type": "code",
   "execution_count": null,
   "metadata": {},
   "outputs": [],
   "source": [
    "# 勘違い\n",
    "n = int(input())\n",
    "w = list(map(int, input().split()))\n",
    "w.sort\n",
    "def is_ok(arg):\n",
    "    return w[arg] <= t\n",
    "\n",
    "def meguru_bisect(ng, ok):\n",
    "    while (abs(ok - ng) > 1):\n",
    "        mid = (ok + ng) // 2\n",
    "        if is_ok(mid):\n",
    "            ok = mid\n",
    "        else:\n",
    "            ng = mid\n",
    "    return ok\n",
    "\n",
    "diff = float('inf')\n",
    "for t in range(n):\n",
    "    ok = meguru_bisect(n, -1)\n",
    "    if abs(sum(w[:ok+1]) - sum(w[ok+1:])) < diff:\n",
    "        print(ok)\n",
    "        diff = abs(sum(w[:ok+1]) - sum(w[ok+1:]))\n",
    "print(diff)"
   ]
  },
  {
   "cell_type": "code",
   "execution_count": null,
   "metadata": {},
   "outputs": [],
   "source": [
    "n = int(input())\n",
    "w = list(map(int, input().split()))\n",
    "\n",
    "diff = float('inf')\n",
    "for t in range(n):\n",
    "    if abs(sum(w[:t+1]) - sum(w[t+1:])) < diff:\n",
    "        diff = abs(sum(w[:t+1]) - sum(w[t+1:]))\n",
    "print(diff)"
   ]
  },
  {
   "cell_type": "code",
   "execution_count": null,
   "metadata": {},
   "outputs": [],
   "source": [
    "n, m = map(int, input().split())\n",
    "a = [None for i in range(m)]\n",
    "for i in range(m):\n",
    "    a[i] = int(input())\n",
    "a = set(a)\n",
    "cnt = 0\n",
    "dp = [None for i in range(n+1)]\n",
    "dp[0] = 1\n",
    "dp[1] = 0\n",
    "if 1 not in a:\n",
    "    dp[1] = 1\n",
    "for i in range(2,n+1):\n",
    "    if i in a:\n",
    "        dp[i] = 0\n",
    "    else:\n",
    "        dp[i] = dp[i-1]+dp[i-2]\n",
    "print(dp[n]%1000000007)"
   ]
  },
  {
   "cell_type": "code",
   "execution_count": null,
   "metadata": {},
   "outputs": [],
   "source": [
    "h, w = map(int, input().split())\n",
    "s = [None for i in range(h)]\n",
    "for i in range(h):\n",
    "    s[i] = input()\n"
   ]
  }
 ],
 "metadata": {
  "language_info": {
   "name": "python"
  }
 },
 "nbformat": 4,
 "nbformat_minor": 2
}
