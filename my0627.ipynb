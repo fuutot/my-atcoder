{
 "cells": [
  {
   "cell_type": "code",
   "execution_count": null,
   "metadata": {},
   "outputs": [],
   "source": [
    "a, b = map(int, input().split())\n",
    "ans = max(a+b, a-b, a*b)\n",
    "print(ans)"
   ]
  },
  {
   "cell_type": "code",
   "execution_count": null,
   "metadata": {},
   "outputs": [],
   "source": [
    "k, x = map(int, input().split())\n",
    "ans = []\n",
    "for p in range(x-k+1, x+k):\n",
    "    #print(p)\n",
    "    if abs(p) <= 1000000:\n",
    "        ans.append(p)\n",
    "print(*ans)"
   ]
  },
  {
   "cell_type": "code",
   "execution_count": null,
   "metadata": {},
   "outputs": [],
   "source": [
    "import math\n",
    "\n",
    "n = int(input())\n",
    "s = [None for i in range(n)]\n",
    "for i in range(n):\n",
    "    s[i] = sorted(input())\n",
    "\n",
    "s = sorted(s)\n",
    "\n",
    "def is_anagram(s1, s2):\n",
    "    return s1 == s2\n",
    "\n",
    "total = 0\n",
    "cnt = 1\n",
    "s1 = s[0]\n",
    "for i in range(1, n):\n",
    "    s2 = s[i]\n",
    "    if is_anagram(s1, s2):\n",
    "        cnt += 1\n",
    "    else:\n",
    "        s1 = s2\n",
    "        total += math.comb(cnt, 2)\n",
    "        cnt = 1\n",
    "if cnt >= 1:\n",
    "    total += math.comb(cnt, 2)\n",
    "print(total)\n"
   ]
  },
  {
   "cell_type": "code",
   "execution_count": null,
   "metadata": {},
   "outputs": [],
   "source": []
  }
 ],
 "metadata": {
  "kernelspec": {
   "display_name": ".venv",
   "language": "python",
   "name": "python3"
  },
  "language_info": {
   "codemirror_mode": {
    "name": "ipython",
    "version": 3
   },
   "file_extension": ".py",
   "mimetype": "text/x-python",
   "name": "python",
   "nbconvert_exporter": "python",
   "pygments_lexer": "ipython3",
   "version": "3.12.2"
  }
 },
 "nbformat": 4,
 "nbformat_minor": 2
}
