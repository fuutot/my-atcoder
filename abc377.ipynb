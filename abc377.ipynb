{
 "cells": [
  {
   "cell_type": "code",
   "execution_count": null,
   "metadata": {},
   "outputs": [],
   "source": [
    "S = input()\n",
    "if 'A' in S and 'B' in S and 'C' in S:\n",
    "    print('Yes')\n",
    "else:\n",
    "    print('No')"
   ]
  },
  {
   "cell_type": "code",
   "execution_count": null,
   "metadata": {},
   "outputs": [],
   "source": [
    "S = [None] * 8\n",
    "for i in range(8):\n",
    "    S[i] = input()\n",
    "\n",
    "bad_i = set()\n",
    "bad_j = set()\n",
    "for i in range(8):\n",
    "    for j in range(8):\n",
    "        if S[i][j] == '#':\n",
    "            bad_i.add(i)\n",
    "            bad_j.add(j)\n",
    "ans = 0\n",
    "for i in range(8):\n",
    "    for j in range(8):\n",
    "        if i not in bad_i and j not in bad_j:\n",
    "            ans += 1\n",
    "print(ans)"
   ]
  },
  {
   "cell_type": "code",
   "execution_count": null,
   "metadata": {},
   "outputs": [],
   "source": [
    "n, m = map(int, input().split())\n",
    "A = [None] * m\n",
    "B = [None] * m\n",
    "for k in range(m):\n",
    "    A[k], B[k] = map(int, input().split())\n",
    "\n",
    "# 空いていないマス、とられるマスを集合に追加する\n",
    "bad_pair = set()\n",
    "for k in range(m):\n",
    "    bad_pair.add((A[k], B[k]))\n",
    "\n",
    "    if A[k]+2 < n+1 and B[k]+1 < n+1:\n",
    "        bad_pair.add((A[k]+2, B[k]+1))\n",
    "\n",
    "    if A[k]+1 < n+1 and B[k]+2 < n+1:\n",
    "        bad_pair.add((A[k]+1, B[k]+2))\n",
    "\n",
    "    if A[k]-1 > 0 and B[k]+2 < n+1:\n",
    "        bad_pair.add((A[k]-1, B[k]+2))\n",
    "    \n",
    "    if A[k]-2 > 0 and B[k]+1 < n+1:\n",
    "        bad_pair.add((A[k]-2, B[k]+1))\n",
    "    \n",
    "    if A[k]-2 > 0 and B[k]-1 > 0:\n",
    "        bad_pair.add((A[k]-2, B[k]-1))\n",
    "    \n",
    "    if A[k]-1 > 0 and B[k]-2 > 0:\n",
    "        bad_pair.add((A[k]-1, B[k]-2))\n",
    "    \n",
    "    if A[k]+1 < n+1 and B[k]-2 > 0:\n",
    "        bad_pair.add((A[k]+1, B[k]-2))\n",
    "    \n",
    "    if A[k]+2 < n+1 and B[k]-1 > 0:\n",
    "        bad_pair.add((A[k]+2, B[k]-1))\n",
    "\n",
    "print(n**2 - len(bad_pair))"
   ]
  },
  {
   "cell_type": "code",
   "execution_count": null,
   "metadata": {},
   "outputs": [],
   "source": [
    "n, m = map(int, input().split())\n",
    "borders = [1] * (m+1)\n",
    "for _ in range(n):\n",
    "    L, R = map(int, input().split())\n",
    "    borders[R] = max(borders[R], L+1)\n",
    "\n",
    "for r in range(1, m+1):\n",
    "    borders[r] = max(borders[r-1], borders[r])\n",
    "\n",
    "ans = 0\n",
    "for r in range(1, m+1):\n",
    "    ans += r - borders[r] + 1\n",
    "print(ans)"
   ]
  },
  {
   "cell_type": "code",
   "execution_count": null,
   "metadata": {},
   "outputs": [],
   "source": []
  }
 ],
 "metadata": {
  "kernelspec": {
   "display_name": ".venv",
   "language": "python",
   "name": "python3"
  },
  "language_info": {
   "codemirror_mode": {
    "name": "ipython",
    "version": 3
   },
   "file_extension": ".py",
   "mimetype": "text/x-python",
   "name": "python",
   "nbconvert_exporter": "python",
   "pygments_lexer": "ipython3",
   "version": "3.12.2"
  }
 },
 "nbformat": 4,
 "nbformat_minor": 2
}
