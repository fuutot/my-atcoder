{
 "cells": [
  {
   "cell_type": "code",
   "execution_count": null,
   "metadata": {},
   "outputs": [],
   "source": [
    "n, q = map(int, input().split())\n",
    "A = list(map(int, input().split()))\n",
    "L = [None for i in range(q)]\n",
    "R = [None for i in range(q)]\n",
    "for i in range(q):\n",
    "    L[i], R[i] = map(int, input().split())\n",
    "\n",
    "prefix_sum = [None for i in range(n+1)]\n",
    "prefix_sum[0] = 0\n",
    "for i in range(n):\n",
    "    prefix_sum[i+1] = prefix_sum[i] + A[i]\n",
    "\n",
    "for i in range(q):\n",
    "    print(prefix_sum[R[i]]-prefix_sum[L[i]-1])"
   ]
  },
  {
   "cell_type": "code",
   "execution_count": null,
   "metadata": {},
   "outputs": [],
   "source": [
    "d = int(input())\n",
    "n = int(input())\n",
    "L = [None for i in range(n)]\n",
    "R = [None for i in range(n)]\n",
    "\n",
    "prefix_sum = [0] * (d+2)\n",
    "for i in range(n):\n",
    "    L[i], R[i] = map(int, input().split())\n",
    "    prefix_sum[L[i]] += 1\n",
    "    prefix_sum[R[i]+1] -= 1\n",
    "\n",
    "ans = [0] * (d+1)\n",
    "for i in range(1, d+1):\n",
    "    ans[i] = ans[i-1] + prefix_sum[i]\n",
    "\n",
    "for i in range(1, d+1):\n",
    "    print(ans[i])"
   ]
  },
  {
   "cell_type": "code",
   "execution_count": null,
   "metadata": {},
   "outputs": [],
   "source": [
    "h, w = map(int, input().split())\n",
    "X = [None for i in range(h)]\n",
    "for i in range(h):\n",
    "    X[i] = list(map(int, input().split()))\n",
    "q = int(input())\n",
    "A = [None for i in range(q)]\n",
    "B = [None for i in range(q)]\n",
    "C = [None for i in range(q)]\n",
    "D = [None for i in range(q)]\n",
    "for i in range(q):\n",
    "    A[i], B[i], C[i], D[i] = map(int, input().split())\n",
    "\n",
    "prefix_sum = [[0 for j in range(w+2)] for i in range(h+2)]\n",
    "\n",
    "for i in range(2, h+2):\n",
    "    for j in range(2, w+2):\n",
    "        if j == 2:\n",
    "            prefix_sum[i][j] = X[i-2][j-2]\n",
    "        else:\n",
    "            prefix_sum[i][j] = prefix_sum[i][j-1] + X[i-2][j-2]\n",
    "\n",
    "for i in range(2, h+2):\n",
    "    for j in range(2, w+2):\n",
    "        if i > 2:\n",
    "            prefix_sum[i][j] = prefix_sum[i-1][j] + prefix_sum[i][j]\n",
    "\n",
    "for i in range(q):\n",
    "    print(prefix_sum[A[i]][B[i]] + prefix_sum[C[i]+1][D[i]+1] - prefix_sum[A[i]][D[i]+1] - prefix_sum[C[i]+1][B[i]])"
   ]
  },
  {
   "cell_type": "code",
   "execution_count": null,
   "metadata": {},
   "outputs": [],
   "source": [
    "# a9 fix: TLE\n",
    "h, w, n = map(int, input().split())\n",
    "A = [None for i in range(n)]\n",
    "B = [None for i in range(n)]\n",
    "C = [None for i in range(n)]\n",
    "D = [None for i in range(n)]\n",
    "for i in range(n):\n",
    "    A[i], B[i], C[i], D[i] = map(int, input().split())\n",
    "\n",
    "Z = [[0 for i in range(w)] for i in range(h)]\n",
    "\n",
    "for i in range(n):\n",
    "    for height in range(A[i]-1, C[i]):\n",
    "        for width in range(B[i]-1, D[i]):\n",
    "            Z[height][width] += 1\n",
    "\n",
    "for i in range(h):\n",
    "    print(*Z[i])"
   ]
  }
 ],
 "metadata": {
  "language_info": {
   "name": "python"
  }
 },
 "nbformat": 4,
 "nbformat_minor": 2
}
