{
 "cells": [
  {
   "cell_type": "code",
   "execution_count": null,
   "metadata": {},
   "outputs": [],
   "source": [
    "a, b, c = map(int, input().split())\n",
    "\n",
    "cap1 = a-b\n",
    "ans = max(c-cap1, 0)\n",
    "print(ans)"
   ]
  },
  {
   "cell_type": "code",
   "execution_count": null,
   "metadata": {},
   "outputs": [],
   "source": [
    "n = int(input())\n",
    "cnt = 0\n",
    "for i in range(1, n+1):\n",
    "    if len(str(i))%2 == 1:\n",
    "        cnt += 1\n",
    "\n",
    "print(cnt)"
   ]
  },
  {
   "cell_type": "code",
   "execution_count": null,
   "metadata": {},
   "outputs": [],
   "source": [
    "n = int(input())\n",
    "h = list(map(int, input().split()))\n",
    "\n",
    "ans = \"Yes\"\n",
    "for i in range(n-2, -1, -1):\n",
    "    if h[i] <= h[i+1]:\n",
    "        pass\n",
    "    else:\n",
    "        h[i] -= 1\n",
    "        if h[i] > h[i+1]:\n",
    "            ans = \"No\"\n",
    "            break\n",
    "print(ans)"
   ]
  }
 ],
 "metadata": {
  "language_info": {
   "name": "python"
  }
 },
 "nbformat": 4,
 "nbformat_minor": 2
}
